{
 "cells": [
  {
   "cell_type": "code",
   "execution_count": 1,
   "id": "428976a2",
   "metadata": {},
   "outputs": [],
   "source": [
    "import pandas as pd"
   ]
  },
  {
   "cell_type": "code",
   "execution_count": 2,
   "id": "9dc2afb9",
   "metadata": {},
   "outputs": [],
   "source": [
    "oplogs = pd.read_excel(r\"D:\\УНИВЕР\\Product_analytics\\Diploma\\oplogs.xlsx\")\n",
    "user_info = pd.read_excel(r\"D:\\УНИВЕР\\Product_analytics\\Diploma\\user_info.xlsx\")\n",
    "user_session = pd.read_excel(r\"D:\\УНИВЕР\\Product_analytics\\Diploma\\user_session.xlsx\")\n",
    "user_payments = pd.read_excel(r\"D:\\УНИВЕР\\Product_analytics\\Diploma\\user_payments.xlsx\")"
   ]
  },
  {
   "cell_type": "code",
   "execution_count": 54,
   "id": "7852ae6c",
   "metadata": {},
   "outputs": [
    {
     "name": "stdout",
     "output_type": "stream",
     "text": [
      "A_group_start_level - 89\n",
      "B_group_start_level  - 92\n"
     ]
    }
   ],
   "source": [
    "oplogs_stage_start = oplogs.query(\"event_name == 'stage_start' & param_1 == 2 & param_2 == 1\")\n",
    "\n",
    "mask_1 = (oplogs_stage_start['user_time'] > '2023-02-03 00:00:00') & (oplogs_stage_start['user_time'] < '2023-02-10 00:00:00')\n",
    "\n",
    "oplogs_stage_start = oplogs_stage_start.assign(user_id_last_number = oplogs_stage_start.user_id.astype(str).str[-1:])\n",
    "\n",
    "a_cn_qroup_stage_start = oplogs_stage_start.query(\"user_id_last_number == '0' | user_id_last_number == '1' | user_id_last_number == '2' | user_id_last_number == '3' | user_id_last_number == '4'\").loc[mask_1].user_id.count()\n",
    "b_cn_qroup_stage_start = oplogs_stage_start.query(\"user_id_last_number == '5' | user_id_last_number == '6' | user_id_last_number == '7' | user_id_last_number == '8' | user_id_last_number == '9'\").loc[mask_1].user_id.count()\n",
    "print(f\"A_group_start_level - {a_cn_qroup_stage_start}\\nB_group_start_level  - {b_cn_qroup_stage_start}\")"
   ]
  },
  {
   "cell_type": "code",
   "execution_count": 55,
   "id": "d547d5ad",
   "metadata": {},
   "outputs": [
    {
     "name": "stdout",
     "output_type": "stream",
     "text": [
      "A_group_finish_level - 76\n",
      "B_group_finish_level  - 83\n"
     ]
    }
   ],
   "source": [
    "oplogs_stage_win = oplogs.query(\"event_name == 'stage_win' & param_1 == 2 & param_2 == 1\")\n",
    "\n",
    "mask_2 = (oplogs_stage_win['user_time'] > '2023-02-03 00:00:00') & (oplogs_stage_win['user_time'] < '2023-02-10 00:00:00')\n",
    "\n",
    "oplogs_stage_win = oplogs_stage_win.assign(user_id_last_number = oplogs_stage_win.user_id.astype(str).str[-1:])\n",
    "oplogs_stage_win\n",
    "a_cn_qroup_stage_win = oplogs_stage_win.query(\"user_id_last_number == '0' | user_id_last_number == '1' | user_id_last_number == '2' | user_id_last_number == '3' | user_id_last_number == '4'\").loc[mask_2].user_id.count()\n",
    "b_cn_qroup_stage_win = oplogs_stage_win.query(\"user_id_last_number == '5' | user_id_last_number == '6' | user_id_last_number == '7' | user_id_last_number == '8' | user_id_last_number == '9'\").loc[mask_2].user_id.count()\n",
    "print(f\"A_group_finish_level - {a_cn_qroup_stage_win}\\nB_group_finish_level  - {b_cn_qroup_stage_win}\")"
   ]
  },
  {
   "cell_type": "code",
   "execution_count": null,
   "id": "daa815b3",
   "metadata": {},
   "outputs": [],
   "source": []
  }
 ],
 "metadata": {
  "kernelspec": {
   "display_name": "Python 3 (ipykernel)",
   "language": "python",
   "name": "python3"
  },
  "language_info": {
   "codemirror_mode": {
    "name": "ipython",
    "version": 3
   },
   "file_extension": ".py",
   "mimetype": "text/x-python",
   "name": "python",
   "nbconvert_exporter": "python",
   "pygments_lexer": "ipython3",
   "version": "3.10.9"
  }
 },
 "nbformat": 4,
 "nbformat_minor": 5
}
